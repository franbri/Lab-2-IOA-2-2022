{
 "cells": [
  {
   "cell_type": "code",
   "execution_count": 1,
   "metadata": {},
   "outputs": [
    {
     "data": {
      "text/plain": [
       "25"
      ]
     },
     "execution_count": 1,
     "metadata": {},
     "output_type": "execute_result"
    }
   ],
   "source": [
    "bruh = [6739.72500, 10355.05000, 7650.40000, 5219.50000, 5776.12500, 6641.17500, 4374.52500, \n",
    " 3847.10000, 6429.47500, 5396.52500, 5219.50000, 4182.90000, 7391.25000, 5038.82500, \n",
    " 10349.57500, 6051.70000, 9568.47500, 9064.77500, 7159.47500, 4781.50000, 6033.45000, \n",
    " 6661.25000, 8845.77500, 11656.27500, 8663.27500]\n",
    "len(bruh)"
   ]
  },
  {
   "cell_type": "code",
   "execution_count": 11,
   "metadata": {},
   "outputs": [],
   "source": [
    "solution = pd.DataFrame(np.array([np.ones(50).astype(int)]).transpose(), columns=[\"x\"])\n",
    "solution.set_index(solution.index + 1)"
   ]
  },
  {
   "cell_type": "code",
   "execution_count": 12,
   "metadata": {},
   "outputs": [
    {
     "name": "stdout",
     "output_type": "stream",
     "text": [
      "        x\n",
      "1.0   1.0\n",
      "2.0   1.0\n",
      "3.0   1.0\n",
      "4.0   1.0\n",
      "5.0   1.0\n",
      "6.0   1.0\n",
      "7.0   1.0\n",
      "8.0   1.0\n",
      "9.0   1.0\n",
      "10.0  1.0\n",
      "11.0  1.0\n",
      "12.0  1.0\n",
      "13.0  1.0\n",
      "14.0  1.0\n",
      "15.0  1.0\n",
      "16.0  1.0\n",
      "17.0  1.0\n",
      "18.0  1.0\n",
      "19.0  1.0\n",
      "20.0  1.0\n",
      "21.0  1.0\n",
      "22.0  1.0\n",
      "23.0  1.0\n",
      "24.0  1.0\n",
      "25.0  1.0\n",
      "26.0  1.0\n",
      "27.0  1.0\n",
      "28.0  1.0\n",
      "29.0  1.0\n",
      "30.0  1.0\n",
      "31.0  1.0\n",
      "32.0  1.0\n",
      "33.0  1.0\n",
      "34.0  1.0\n",
      "35.0  1.0\n",
      "36.0  1.0\n",
      "37.0  1.0\n",
      "38.0  1.0\n",
      "39.0  1.0\n",
      "40.0  1.0\n",
      "41.0  1.0\n",
      "42.0  1.0\n",
      "43.0  1.0\n",
      "44.0  1.0\n",
      "45.0  1.0\n",
      "46.0  1.0\n",
      "47.0  1.0\n",
      "48.0  1.0\n",
      "49.0  1.0\n",
      "50.0  1.0\n",
      "   index0    |      x      \n",
      "     1       |      1      \n",
      "     2       |      1      \n",
      "     3       |      1      \n",
      "     4       |      1      \n",
      "     5       |      1      \n",
      "     6       |      1      \n",
      "     7       |      1      \n",
      "     8       |      1      \n",
      "     9       |      1      \n",
      "     10      |      1      \n",
      "     11      |      1      \n",
      "     12      |      1      \n",
      "     13      |      1      \n",
      "     14      |      1      \n",
      "     15      |      1      \n",
      "     16      |      1      \n",
      "     17      |      1      \n",
      "     18      |      1      \n",
      "     19      |      1      \n",
      "     20      |      1      \n",
      "     21      |      1      \n",
      "     22      |      1      \n",
      "     23      |      1      \n",
      "     24      |      1      \n",
      "     25      |      1      \n",
      "     26      |      1      \n",
      "     27      |      1      \n",
      "     28      |      1      \n",
      "     29      |      1      \n",
      "     30      |      1      \n",
      "     31      |      1      \n",
      "     32      |      1      \n",
      "     33      |      1      \n",
      "     34      |      1      \n",
      "     35      |      1      \n",
      "     36      |      1      \n",
      "     37      |      1      \n",
      "     38      |      1      \n",
      "     39      |      1      \n",
      "     40      |      1      \n",
      "     41      |      1      \n",
      "     42      |      1      \n",
      "     43      |      1      \n",
      "     44      |      1      \n",
      "     45      |      1      \n",
      "     46      |      1      \n",
      "     47      |      1      \n",
      "     48      |      1      \n",
      "     49      |      1      \n",
      "     50      |      1      \n",
      "\n",
      "Gurobi 9.5.2: optimal solution; objective 1849071.45\n"
     ]
    }
   ],
   "source": [
    "from amplpy import AMPL, Environment\n",
    "import os\n",
    "import pandas as pd\n",
    "\n",
    "import numpy as np\n",
    "ampl = AMPL(Environment('./ampl_mswin64'))\n",
    "\n",
    "ampl.read(os.path.join(\"example/1_CFLP_model.mod\"))\n",
    "ampl.read_data(os.path.join(\"example/CAP134_AMPL.dat\"))\n",
    "\n",
    "\n",
    "bruh = ampl.get_parameter('x')\n",
    "bruh.set_values(solution)\n",
    "pandas = bruh.getValues()\n",
    "new = pandas.to_pandas()\n",
    "#new[\"FC\"] = new[\"FC\"] + 1\n",
    "print(new)\n",
    "pandas = bruh.getValues()\n",
    "\n",
    "print(bruh.getValues())\n",
    "ampl.solve()\n",
    "\n",
    "\n",
    "#def run(model, data):\n",
    "#    runfile = open(\"AMPL_run.run\", \"w\")"
   ]
  },
  {
   "cell_type": "code",
   "execution_count": 16,
   "metadata": {},
   "outputs": [
    {
     "name": "stdout",
     "output_type": "stream",
     "text": [
      "Warning:\n",
      "\tpresolve, constraint allocation1[34]:\n",
      "\t\tall variables eliminated, but lower bound = 1 > 0\n",
      "\tpresolve, constraint allocation1[11]:\n",
      "\t\tall variables eliminated, but lower bound = 1 > 0\n"
     ]
    }
   ],
   "source": [
    "import AMPL_interface\n",
    "import pandas as pd\n",
    "import numpy as np\n",
    "#solution = pd.DataFrame(np.array([np.arange(50).astype(int), np.ones(50).astype(int)]).transpose(), columns= [\"index0\", \"x\"])\n",
    "#solution = pd.DataFrame(np.array([np.ones(50).astype(int)]).transpose(), columns=[\"x\"])\n",
    "solution = pd.DataFrame(np.array([np.ones(25).astype(int)]).transpose(), columns=[\"x\"])\n",
    "solution = solution.set_index(solution.index + 1)\n",
    "\n",
    "AMPL_interface.solve(os.path.join(\"example/model_param.mod\"), os.path.join(\"example/cap84.dat\"), solution)"
   ]
  },
  {
   "cell_type": "code",
   "execution_count": 13,
   "metadata": {},
   "outputs": [
    {
     "data": {
      "text/plain": [
       "58268"
      ]
     },
     "execution_count": 13,
     "metadata": {},
     "output_type": "execute_result"
    }
   ],
   "source": [
    "sum([146, 87, 672, 1337, 31, 559, 2370, 1089, 33, 32, 5495, 904, 1466, 143, 615, 564, 226, 3016, 253, 195, 38, 807, 551, 304, 814, 337, 4368, 577, 482, 495, 231, 322, 685, 12912, 325, 366, 3671, 2213, 705, 328, 1681, 1117, 275, 500, 2241, 733, 222, 49, 1464, 222])"
   ]
  }
 ],
 "metadata": {
  "kernelspec": {
   "display_name": "Python 3.10.8 64-bit (microsoft store)",
   "language": "python",
   "name": "python3"
  },
  "language_info": {
   "codemirror_mode": {
    "name": "ipython",
    "version": 3
   },
   "file_extension": ".py",
   "mimetype": "text/x-python",
   "name": "python",
   "nbconvert_exporter": "python",
   "pygments_lexer": "ipython3",
   "version": "3.10.8"
  },
  "orig_nbformat": 4,
  "vscode": {
   "interpreter": {
    "hash": "e0acaf148705ed9ed86cc5cad12259d7985e30670e5686e5f55604a9b3b84a55"
   }
  }
 },
 "nbformat": 4,
 "nbformat_minor": 2
}
